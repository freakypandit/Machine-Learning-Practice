{
 "cells": [
  {
   "cell_type": "markdown",
   "metadata": {},
   "source": [
    "## List"
   ]
  },
  {
   "cell_type": "code",
   "execution_count": 1,
   "metadata": {},
   "outputs": [],
   "source": [
    "# Let's make three lists\n",
    "lst_1=[1,2,3]\n",
    "lst_2=[4,5,6]\n",
    "lst_3=[7,8,9]\n",
    "\n",
    "# Make a list of lists to form a matrix\n",
    "matrix = [lst_1,lst_2,lst_3]"
   ]
  },
  {
   "cell_type": "code",
   "execution_count": 5,
   "metadata": {},
   "outputs": [
    {
     "output_type": "execute_result",
     "data": {
      "text/plain": "3"
     },
     "metadata": {},
     "execution_count": 5
    }
   ],
   "source": [
    "matrix[0][2]"
   ]
  },
  {
   "cell_type": "markdown",
   "metadata": {},
   "source": [
    "## List Comprehension\n",
    "\n",
    "new_list = [expression for member in iterable]\n",
    "\n",
    "new_list = [expression for member in iterable (if conditional)]\n",
    "\n",
    "new_list = [expression (if conditional) for member in iterable]\n"
   ]
  },
  {
   "cell_type": "code",
   "execution_count": 7,
   "metadata": {},
   "outputs": [
    {
     "output_type": "stream",
     "name": "stdout",
     "text": "[1, 4, 7]\n"
    }
   ],
   "source": [
    "first_col = [row[0] for row in matrix]\n",
    "print(first_col)"
   ]
  },
  {
   "cell_type": "code",
   "execution_count": 8,
   "metadata": {},
   "outputs": [
    {
     "output_type": "stream",
     "name": "stdout",
     "text": "[1, 4, 9, 16, 25, 36, 49, 64, 81]\n"
    }
   ],
   "source": [
    "#Using for loop to create a list\n",
    "\n",
    "squr = []\n",
    "for elem in range(1, 10) :\n",
    "    squr.append(elem ** 2)\n",
    "\n",
    "print(squr)"
   ]
  },
  {
   "cell_type": "code",
   "execution_count": 10,
   "metadata": {},
   "outputs": [
    {
     "output_type": "stream",
     "name": "stdout",
     "text": "[1, 16, 81, 256, 625, 1296, 2401, 4096, 6561]\n"
    }
   ],
   "source": [
    "#Using map() to create a list\n",
    "\n",
    "def sq_of_sq(elem) :\n",
    "    return elem ** 2\n",
    "\n",
    "sq_of_sqre = map(sq_of_sq, squr)\n",
    "print(list(sq_of_sqre))"
   ]
  },
  {
   "cell_type": "code",
   "execution_count": 13,
   "metadata": {},
   "outputs": [
    {
     "output_type": "stream",
     "name": "stdout",
     "text": "['e', 'u', 'i', 'o', 'o', 'u', 'o', 'e', 'e', 'a', 'o']\n['T', 'h', 'q', 'c', 'k', 'b', 'r', 'w', 'n', 'f', 'x', 'j', 'm', 'p', 's', 'v', 'r', 't', 'h', 'l', 'z', 'y', 'd', 'g']\n"
    }
   ],
   "source": [
    "sentences = \"The quick brown fox jumps over the lazy dog.\"\n",
    "vowels = [i for i in sentences if i in 'aeiou']\n",
    "\n",
    "def consonents(elem):\n",
    "    vowels = 'aeiou'\n",
    "    return elem.isalpha() and elem.lower() not in vowels \n",
    "consonent = [i for i in sentences if consonents(i)]\n",
    "\n",
    "print(vowels)\n",
    "print(consonent)"
   ]
  },
  {
   "cell_type": "code",
   "execution_count": 14,
   "metadata": {},
   "outputs": [
    {
     "output_type": "stream",
     "name": "stdout",
     "text": "[0, 100, 200, 300, 400, 500, 600, 700, 800, 900, 1000]\n"
    }
   ],
   "source": [
    "cube = [x*10 for x in [x*10 for x in range(0, 11)]]\n",
    "print(cube)"
   ]
  },
  {
   "cell_type": "markdown",
   "metadata": {},
   "source": [
    "## Dictionaries"
   ]
  },
  {
   "cell_type": "code",
   "execution_count": 21,
   "metadata": {},
   "outputs": [
    {
     "output_type": "execute_result",
     "data": {
      "text/plain": "[2]"
     },
     "metadata": {},
     "execution_count": 21
    }
   ],
   "source": [
    "my_dict = {'key1': 'value1', 'key2':'value2', 'key3' : [1, 2, 3]}\n",
    "[elem for elem in my_dict['key3'] if elem%2 == 0]"
   ]
  },
  {
   "cell_type": "code",
   "execution_count": 24,
   "metadata": {},
   "outputs": [
    {
     "output_type": "execute_result",
     "data": {
      "text/plain": "{'key1': 'Dog'}"
     },
     "metadata": {},
     "execution_count": 24
    }
   ],
   "source": [
    "d = {}\n",
    "d['key1'] = 'Dog'\n",
    "d"
   ]
  },
  {
   "cell_type": "code",
   "execution_count": 26,
   "metadata": {},
   "outputs": [
    {
     "output_type": "execute_result",
     "data": {
      "text/plain": "dict_items([('key1', 1), ('key2', 2), ('key3', 3)])"
     },
     "metadata": {},
     "execution_count": 26
    }
   ],
   "source": [
    "d = {'key1':1,'key2':2,'key3':3}\n",
    "d.items()"
   ]
  },
  {
   "cell_type": "code",
   "execution_count": 30,
   "metadata": {},
   "outputs": [
    {
     "output_type": "execute_result",
     "data": {
      "text/plain": "{1, 2, 3, 4, 5, 6, 7, 8}"
     },
     "metadata": {},
     "execution_count": 30
    }
   ],
   "source": [
    "x = set()\n",
    "x.add(1)\n",
    "x.add(2)\n",
    "x.add(1)\n",
    "\n",
    "list1 = [1,2,3,4,1,2,3,4,5,1,2,6,7,8]\n",
    "set(list1)"
   ]
  },
  {
   "cell_type": "markdown",
   "metadata": {},
   "source": [
    "## Files"
   ]
  },
  {
   "cell_type": "code",
   "execution_count": 31,
   "metadata": {},
   "outputs": [
    {
     "output_type": "stream",
     "name": "stdout",
     "text": "Writing sample.txt\n"
    }
   ],
   "source": [
    "%%writefile sample.txt\n",
    "Hello, this is sample file."
   ]
  },
  {
   "cell_type": "code",
   "execution_count": 44,
   "metadata": {},
   "outputs": [],
   "source": [
    "myfile = open(\"sample.txt\")"
   ]
  },
  {
   "cell_type": "code",
   "execution_count": 35,
   "metadata": {},
   "outputs": [
    {
     "output_type": "error",
     "ename": "FileNotFoundError",
     "evalue": "[Errno 2] No such file or directory: 'thisfile.txt'",
     "traceback": [
      "\u001b[1;31m---------------------------------------------------------------------------\u001b[0m",
      "\u001b[1;31mFileNotFoundError\u001b[0m                         Traceback (most recent call last)",
      "\u001b[1;32m<ipython-input-35-59ca10c6a11f>\u001b[0m in \u001b[0;36m<module>\u001b[1;34m\u001b[0m\n\u001b[1;32m----> 1\u001b[1;33m \u001b[0mfile1\u001b[0m \u001b[1;33m=\u001b[0m \u001b[0mopen\u001b[0m\u001b[1;33m(\u001b[0m\u001b[1;34m\"thisfile.txt\"\u001b[0m\u001b[1;33m)\u001b[0m\u001b[1;33m\u001b[0m\u001b[1;33m\u001b[0m\u001b[0m\n\u001b[0m",
      "\u001b[1;31mFileNotFoundError\u001b[0m: [Errno 2] No such file or directory: 'thisfile.txt'"
     ]
    }
   ],
   "source": [
    "file1 = open(\"thisfile.txt\")"
   ]
  },
  {
   "cell_type": "code",
   "execution_count": 55,
   "metadata": {},
   "outputs": [],
   "source": [
    "#.read()\n",
    "#.readline()\n",
    "#.readlines()\n",
    "\n",
    "myfile.read()\n",
    "\"\"\"\n",
    "We can't use read twice to read the same line.\n",
    "This happens because you can imagine the reading \"cursor\" is at the end of the file after having read it. So there is nothing left to read. We can reset the \"cursor\" like this:\n",
    "\"\"\"\n",
    "myfile.seek(0,)\n",
    "#myfile.read()\n",
    "\n",
    "myfile.readlines()\n",
    "myfile.close()"
   ]
  },
  {
   "cell_type": "markdown",
   "metadata": {},
   "source": [
    "## Statements in Python\n"
   ]
  },
  {
   "cell_type": "code",
   "execution_count": 3,
   "metadata": {},
   "outputs": [
    {
     "output_type": "stream",
     "name": "stdout",
     "text": "i\ni\na\ni\n"
    }
   ],
   "source": [
    "for letter in \"This is a string\":\n",
    "    if letter in 'aeiou':\n",
    "        print(letter)"
   ]
  },
  {
   "cell_type": "code",
   "execution_count": 13,
   "metadata": {},
   "outputs": [
    {
     "output_type": "stream",
     "name": "stdout",
     "text": "Index : 0, element: T\nIndex : 1, element: h\nIndex : 2, element: i\nIndex : 3, element: s\nIndex : 4, element:  \nIndex : 5, element: i\nIndex : 6, element: s\nIndex : 7, element:  \nIndex : 8, element: a\nIndex : 9, element:  \nIndex : 10, element: s\nIndex : 11, element: t\nIndex : 12, element: r\nIndex : 13, element: i\nIndex : 14, element: n\nIndex : 15, element: g\n[3, 5, 4, 1, 2]\n14\n"
    }
   ],
   "source": [
    "# range(start, stop, step_size)\n",
    "# Generator function\n",
    "list(range(0, 21, 2))\n",
    "\n",
    "\n",
    "# enumerate allows you to run loops \n",
    "for i, letter in enumerate(\"This is a string\"):\n",
    "    print(f\"Index : {i}, element: {letter}\")\n",
    "\n",
    "\n",
    "list(enumerate(\"This is string\"))\n",
    "#enumerate returns a list of tuples\n",
    "\n",
    "#Zip function can be used to zip two list to create tuples \n",
    "list1 = [1, 2, 3, 4, 5]\n",
    "list2 = [1, 4, 9, 16, 25]\n",
    "\n",
    "#genreator\n",
    "zip(list1, list2)\n",
    "\n",
    "#cast it to some function\n",
    "list(zip(list1, list2))\n",
    "\n",
    "#random library\n",
    "list_items = [1, 2, 3, 4, 5]\n",
    "from random import shuffle, randint\n",
    "\n",
    "shuffle(list_items)\n",
    "print(list_items)\n",
    "\n",
    "num = randint(10, 20)\n",
    "print(num)"
   ]
  },
  {
   "cell_type": "markdown",
   "metadata": {},
   "source": [
    "## Methods and functions"
   ]
  },
  {
   "cell_type": "code",
   "execution_count": null,
   "metadata": {},
   "outputs": [],
   "source": []
  }
 ],
 "metadata": {
  "language_info": {
   "codemirror_mode": {
    "name": "ipython",
    "version": 3
   },
   "file_extension": ".py",
   "mimetype": "text/x-python",
   "name": "python",
   "nbconvert_exporter": "python",
   "pygments_lexer": "ipython3",
   "version": "3.7.6-final"
  },
  "orig_nbformat": 2,
  "kernelspec": {
   "name": "python37664bitbasecondaa3d28e0e409a42e6902d4d49c9618ede",
   "display_name": "Python 3.7.6 64-bit ('base': conda)"
  }
 },
 "nbformat": 4,
 "nbformat_minor": 2
}